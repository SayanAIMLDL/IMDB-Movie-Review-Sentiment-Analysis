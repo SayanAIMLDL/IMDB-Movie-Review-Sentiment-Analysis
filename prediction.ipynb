{
 "cells": [
  {
   "cell_type": "code",
   "execution_count": 1,
   "id": "aed1709e",
   "metadata": {},
   "outputs": [],
   "source": [
    "import numpy as np\n",
    "import tensorflow as tf\n",
    "from tensorflow.keras.datasets import imdb\n",
    "from tensorflow.keras.preprocessing import sequence\n",
    "from tensorflow.keras.models import load_model"
   ]
  },
  {
   "cell_type": "code",
   "execution_count": 2,
   "id": "ae1b82f4",
   "metadata": {},
   "outputs": [],
   "source": [
    "# Load the imdb word index\n",
    "word_index = imdb.get_word_index()\n",
    "reverse_word_index = {value: key for (key, value) in word_index.items()}"
   ]
  },
  {
   "cell_type": "code",
   "execution_count": 3,
   "id": "1f8b84ed",
   "metadata": {},
   "outputs": [
    {
     "name": "stderr",
     "output_type": "stream",
     "text": [
      "WARNING:absl:Compiled the loaded model, but the compiled metrics have yet to be built. `model.compile_metrics` will be empty until you train or evaluate the model.\n"
     ]
    }
   ],
   "source": [
    "# Load the pre-trained model\n",
    "model = load_model('simple_rnn_imdb.h5')"
   ]
  },
  {
   "cell_type": "code",
   "execution_count": 4,
   "metadata": {},
   "outputs": [
    {
     "data": {
      "text/plain": [
       "[array([[-0.04774034, -0.09061401, -0.06881975, ...,  0.02439542,\n",
       "          0.00971464, -0.10276776],\n",
       "        [ 0.01921025, -0.02703672, -0.0394284 , ...,  0.00098911,\n",
       "          0.0150531 , -0.00465526],\n",
       "        [ 0.00272671, -0.01183961, -0.01999841, ..., -0.02394416,\n",
       "         -0.01466107, -0.03868355],\n",
       "        ...,\n",
       "        [ 0.01297839,  0.05483008,  0.0372354 , ..., -0.02647628,\n",
       "          0.02039476,  0.05826851],\n",
       "        [-0.05444968,  0.03538998, -0.02437775, ...,  0.03290205,\n",
       "         -0.00721174,  0.03703437],\n",
       "        [ 0.01420612, -0.04561515, -0.01088681, ..., -0.00011675,\n",
       "         -0.00983951,  0.00201013]], shape=(10000, 500), dtype=float32),\n",
       " array([[ 0.02331563, -0.02873393, -0.10029299, ..., -0.04915471,\n",
       "          0.00867833, -0.01145795],\n",
       "        [ 0.04774578,  0.05550071, -0.04561909, ...,  0.10055864,\n",
       "         -0.0979181 , -0.01739992],\n",
       "        [-0.09233199,  0.1026705 ,  0.07619846, ..., -0.02105529,\n",
       "          0.03780393, -0.05254087],\n",
       "        ...,\n",
       "        [-0.02760132,  0.10199501, -0.01850648, ..., -0.09137412,\n",
       "         -0.10760746, -0.05659661],\n",
       "        [-0.04300949, -0.02882294, -0.0341607 , ..., -0.02718288,\n",
       "         -0.07626089,  0.12045939],\n",
       "        [ 0.04623088,  0.09905113,  0.1124747 , ...,  0.0848411 ,\n",
       "          0.02451055,  0.04273343]], shape=(500, 16), dtype=float32),\n",
       " array([[ 0.12188048,  0.05658007, -0.37869292,  0.28017426, -0.27641752,\n",
       "         -0.01214576,  0.39536828,  0.47230855, -0.42885515,  0.10309038,\n",
       "          0.17764698,  0.02958242, -0.02139268, -0.63963664,  0.17012636,\n",
       "         -0.02077262],\n",
       "        [ 0.15135287,  0.53422606, -0.34249514, -0.13015425, -0.49120584,\n",
       "          0.12710848, -0.31605774,  0.15043744, -0.12450019,  0.0910687 ,\n",
       "         -0.14800635, -0.36167037, -0.1970014 ,  0.21924026,  0.09000701,\n",
       "         -0.02689137],\n",
       "        [-0.21524258, -0.41084814,  0.14795503,  0.19781983, -0.12118336,\n",
       "         -0.14020273, -0.5302741 ,  0.44198498, -0.02444541,  0.29414487,\n",
       "          0.16188167, -0.14394829,  0.40258843,  0.28491527,  0.16829346,\n",
       "          0.23867393],\n",
       "        [-0.13487814, -0.16481332, -0.1019972 , -0.33611986, -0.06671143,\n",
       "          0.32851535,  0.65571934, -0.24765655, -0.56343585, -0.12251573,\n",
       "         -0.02418401, -0.16691914,  0.0043597 ,  0.39208004,  0.27273017,\n",
       "          0.18499571],\n",
       "        [ 0.03490121, -0.09606906, -0.01293627,  0.10472975, -0.20893407,\n",
       "         -0.7031388 ,  0.20051616,  0.06556279,  0.02859544, -0.38764513,\n",
       "         -0.5602343 ,  0.02181551,  0.11975022,  0.214173  , -0.17375892,\n",
       "          0.17596951],\n",
       "        [ 0.2650694 , -0.21782947, -0.38098812, -0.12314153, -0.02245462,\n",
       "          0.06030257, -0.00396327, -0.25462016,  0.18974863, -0.3994701 ,\n",
       "          0.258784  , -0.58033305,  0.5688444 , -0.18341249,  0.1482508 ,\n",
       "          0.04140589],\n",
       "        [ 0.01731849,  0.11866596, -0.12656707,  0.60636353, -0.1751185 ,\n",
       "          0.4247062 ,  0.0556974 , -0.31718177,  0.01544899,  0.27566105,\n",
       "         -0.3508016 ,  0.19963783,  0.5821378 ,  0.12650515, -0.22450122,\n",
       "         -0.0321825 ],\n",
       "        [ 0.11111696, -0.08798634, -0.7555533 ,  0.07400586,  0.22494027,\n",
       "         -0.005723  , -0.10656483,  0.09255295,  0.16059156, -0.04296844,\n",
       "          0.14957368,  0.43573865, -0.2335743 ,  0.1797634 , -0.24952742,\n",
       "          0.47553357],\n",
       "        [-0.10572547, -0.4207553 ,  0.0739862 , -0.23429537,  0.05282193,\n",
       "          0.40452382, -0.12753162,  0.27644712,  0.05064046, -0.11216041,\n",
       "         -0.59385717, -0.23572153, -0.23850606, -0.15276182, -0.5090085 ,\n",
       "         -0.03608478],\n",
       "        [ 0.15630525, -0.06630614,  0.21416672,  0.09664363, -0.26331338,\n",
       "         -0.1847419 ,  0.12215863, -0.20657371, -0.1892921 ,  0.34647375,\n",
       "          0.3901751 , -0.39244914, -0.294748  , -0.03234714, -0.6137457 ,\n",
       "          0.23951006],\n",
       "        [-0.4453789 ,  0.35637143,  0.17347012, -0.5070607 , -0.22179157,\n",
       "          0.07641882,  0.16857518,  0.17112337,  0.13434108,  0.00961304,\n",
       "          0.0856352 ,  0.2086833 ,  0.3152666 , -0.27800396, -0.15003704,\n",
       "          0.48383078],\n",
       "        [-0.47905388,  0.07688548, -0.34127045,  0.11916585,  0.07644863,\n",
       "         -0.16247009,  0.34759855, -0.19677992,  0.57712024,  0.31597504,\n",
       "         -0.11579739, -0.39837977, -0.17650153, -0.02693426,  0.13999385,\n",
       "         -0.04660926],\n",
       "        [ 0.18270066, -0.09289514, -0.29935506, -0.74959457,  0.23594064,\n",
       "         -0.3131907 ,  0.13843255,  0.01037204, -0.12780744,  0.55755705,\n",
       "         -0.15617187,  0.01562383,  0.27589253,  0.0829943 , -0.09685542,\n",
       "         -0.30283222],\n",
       "        [-0.12207919,  0.15365717,  0.05752606,  0.05192921,  0.05553803,\n",
       "          0.02721426,  0.26008853,  0.47013465,  0.1794935 , -0.2721578 ,\n",
       "          0.26519874,  0.01787455,  0.14437625,  0.43144152, -0.46366134,\n",
       "         -0.42967817],\n",
       "        [-0.14709862,  0.35420856, -0.07363924,  0.12566723,  0.67117727,\n",
       "         -0.06112723,  0.00658911,  0.10373616, -0.42964333, -0.01231081,\n",
       "         -0.10419717, -0.3825706 ,  0.11721937, -0.03096629, -0.01590597,\n",
       "          0.22206537],\n",
       "        [ 0.62989795,  0.20800157,  0.28042018,  0.09317353,  0.106486  ,\n",
       "          0.1732733 ,  0.35092565,  0.36583024,  0.3144784 ,  0.21289094,\n",
       "         -0.09553933, -0.12245165, -0.09717171,  0.02934255,  0.23913372,\n",
       "          0.3782071 ]], dtype=float32),\n",
       " array([-0.00675302, -0.01110375,  0.00860905, -0.01822235,  0.00421132,\n",
       "        -0.00592975, -0.00562152, -0.003311  ,  0.0088633 , -0.00286733,\n",
       "        -0.00569778,  0.00577677,  0.00884851,  0.00466267, -0.00907456,\n",
       "        -0.00521235], dtype=float32),\n",
       " array([[ 0.34401354],\n",
       "        [ 0.2800966 ],\n",
       "        [-1.0128565 ],\n",
       "        [-0.8861769 ],\n",
       "        [ 0.30082694],\n",
       "        [ 0.09379017],\n",
       "        [ 0.65781915],\n",
       "        [-0.57598406],\n",
       "        [-0.8034728 ],\n",
       "        [ 0.44104958],\n",
       "        [ 0.08279547],\n",
       "        [-0.686035  ],\n",
       "        [ 0.32287517],\n",
       "        [-0.6788587 ],\n",
       "        [ 0.8336473 ],\n",
       "        [ 0.27484578]], dtype=float32),\n",
       " array([0.01392652], dtype=float32)]"
      ]
     },
     "execution_count": 4,
     "metadata": {},
     "output_type": "execute_result"
    }
   ],
   "source": [
    "model.get_weights()"
   ]
  },
  {
   "cell_type": "code",
   "execution_count": 5,
   "metadata": {},
   "outputs": [],
   "source": [
    "# Funation to decode review\n",
    "def decode_review(text):\n",
    "    return ' '.join([reverse_word_index.get(i - 3, '?') for i in text])\n",
    "def preprocess(text):\n",
    "    words = text.lower().split()\n",
    "    encode_review = [word_index.get(word, 2) + 3 for word in words]\n",
    "    padded_review = sequence.pad_sequences([encode_review], maxlen=500)\n",
    "    return padded_review"
   ]
  },
  {
   "cell_type": "code",
   "execution_count": 6,
   "metadata": {},
   "outputs": [],
   "source": [
    "# Prediction function\n",
    "\n",
    "def predict_sentiment(text):\n",
    "    preprocessed_input = preprocess(text)\n",
    "    prediction = model.predict(preprocessed_input)\n",
    "    sentiment = \"Positive\" if prediction >= 0.5 else \"Negative\"\n",
    "    return sentiment, prediction[0][0]"
   ]
  },
  {
   "cell_type": "code",
   "execution_count": null,
   "id": "c44ce1b0",
   "metadata": {},
   "outputs": [
    {
     "name": "stdout",
     "output_type": "stream",
     "text": [
      "\u001b[1m1/1\u001b[0m \u001b[32m━━━━━━━━━━━━━━━━━━━━\u001b[0m\u001b[37m\u001b[0m \u001b[1m0s\u001b[0m 83ms/step\n",
      "\u001b[1m1/1\u001b[0m \u001b[32m━━━━━━━━━━━━━━━━━━━━\u001b[0m\u001b[37m\u001b[0m \u001b[1m0s\u001b[0m 76ms/step\n",
      "Review: The movie was fantastic! I really loved it and would watch it again.\n",
      "Sentiment: Positive\n",
      "Prediction Score: 0.9896938800811768\n",
      "Review: This movie is very bad. I did not like it at all.\n",
      "Sentiment: Negative\n",
      "Prediction Score: 0.17521098256111145\n"
     ]
    }
   ],
   "source": [
    "# user input and predict\n",
    "\n",
    "example_review = \"The movie was fantastic! I really loved it and would watch it again.\"\n",
    "sentiment,score = predict_sentiment(example_review)\n",
    "print(f\"Review: {example_review}\")\n",
    "print(f\"Sentiment: {sentiment}\")\n",
    "print(f\"Prediction Score: {score}\")\n",
    "\n",
    "# this movie is not very accurate\n"
   ]
  },
  {
   "cell_type": "code",
   "execution_count": null,
   "metadata": {},
   "outputs": [],
   "source": []
  },
  {
   "cell_type": "code",
   "execution_count": null,
   "metadata": {},
   "outputs": [],
   "source": []
  },
  {
   "cell_type": "code",
   "execution_count": null,
   "metadata": {},
   "outputs": [],
   "source": []
  },
  {
   "cell_type": "code",
   "execution_count": null,
   "metadata": {},
   "outputs": [],
   "source": []
  },
  {
   "cell_type": "code",
   "execution_count": null,
   "id": "7e8c7926",
   "metadata": {},
   "outputs": [],
   "source": []
  },
  {
   "cell_type": "code",
   "execution_count": null,
   "id": "f21daf0f",
   "metadata": {},
   "outputs": [],
   "source": []
  },
  {
   "cell_type": "code",
   "execution_count": null,
   "id": "6197867d",
   "metadata": {},
   "outputs": [],
   "source": []
  },
  {
   "cell_type": "code",
   "execution_count": null,
   "metadata": {},
   "outputs": [],
   "source": []
  },
  {
   "cell_type": "code",
   "execution_count": null,
   "metadata": {},
   "outputs": [],
   "source": []
  },
  {
   "cell_type": "code",
   "execution_count": null,
   "id": "8198aca0",
   "metadata": {},
   "outputs": [],
   "source": []
  }
 ],
 "metadata": {
  "kernelspec": {
   "display_name": ".venv",
   "language": "python",
   "name": "python3"
  },
  "language_info": {
   "codemirror_mode": {
    "name": "ipython",
    "version": 3
   },
   "file_extension": ".py",
   "mimetype": "text/x-python",
   "name": "python",
   "nbconvert_exporter": "python",
   "pygments_lexer": "ipython3",
   "version": "3.10.11"
  }
 },
 "nbformat": 4,
 "nbformat_minor": 5
}
